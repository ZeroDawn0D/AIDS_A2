{
 "cells": [
  {
   "cell_type": "code",
   "execution_count": 1,
   "id": "d4a47d38-5329-40f5-8124-34cf03708f82",
   "metadata": {},
   "outputs": [],
   "source": [
    "import torch\n",
    "from torch.utils.data import Dataset,random_split, DataLoader, Subset\n",
    "import torch.nn as nn\n",
    "from zipfile import ZipFile\n",
    "import pandas\n",
    "from PIL import Image\n",
    "from io import BytesIO\n",
    "from time import time\n",
    "\n",
    "import numpy as np\n",
    "\n",
    "import torch.nn.functional as F\n",
    "import torch.optim as optim\n",
    "import torchvision\n",
    "import torchvision.transforms as transforms\n",
    "import torchvision.models as models\n",
    "import matplotlib.pyplot as plt\n",
    "from torchsummary import summary\n"
   ]
  },
  {
   "cell_type": "code",
   "execution_count": 2,
   "id": "95d30db0-70dd-4500-80ba-22aefd8664c0",
   "metadata": {},
   "outputs": [
    {
     "name": "stdout",
     "output_type": "stream",
     "text": [
      "Current Device: cuda\n",
      "Number of devices: 1\n"
     ]
    }
   ],
   "source": [
    "# Set device type\n",
    "device = \"cuda\" if torch.cuda.is_available() else \"cpu\"\n",
    "print(f'Current Device: {device}')\n",
    "device_count = torch.cuda.device_count() # Number of GPUs available\n",
    "print(f'Number of devices: {device_count}')"
   ]
  },
  {
   "cell_type": "code",
   "execution_count": 3,
   "id": "03a29055-9434-4d9f-9bff-5eede4680086",
   "metadata": {
    "scrolled": true
   },
   "outputs": [],
   "source": [
    "zip_location = '../Data/face_images.zip'\n"
   ]
  },
  {
   "cell_type": "code",
   "execution_count": 4,
   "id": "f3809b3b-71ff-455c-863d-bb09f0a1defb",
   "metadata": {},
   "outputs": [],
   "source": [
    "with ZipFile(zip_location,'r') as zf:\n",
    "    files = ['face_image_attr.csv', \n",
    "             'face_image_bbox.csv',\n",
    "             'face_image_eval_partition.csv']\n",
    "    with zf.open(files[0]) as f:\n",
    "        attr = pandas.read_csv(f)\n",
    "    with zf.open(files[1]) as f:\n",
    "        bbox = pandas.read_csv(f)\n",
    "    with zf.open(files[2]) as f:\n",
    "        eval_part = pandas.read_csv(f)\n",
    "    \n",
    "\n",
    "# 202599"
   ]
  },
  {
   "cell_type": "code",
   "execution_count": 38,
   "id": "a05c8f8b-ef96-48fa-954b-3c743803a185",
   "metadata": {},
   "outputs": [
    {
     "data": {
      "text/html": [
       "<div>\n",
       "<style scoped>\n",
       "    .dataframe tbody tr th:only-of-type {\n",
       "        vertical-align: middle;\n",
       "    }\n",
       "\n",
       "    .dataframe tbody tr th {\n",
       "        vertical-align: top;\n",
       "    }\n",
       "\n",
       "    .dataframe thead th {\n",
       "        text-align: right;\n",
       "    }\n",
       "</style>\n",
       "<table border=\"1\" class=\"dataframe\">\n",
       "  <thead>\n",
       "    <tr style=\"text-align: right;\">\n",
       "      <th></th>\n",
       "      <th>image_id</th>\n",
       "      <th>5_o_Clock_Shadow</th>\n",
       "      <th>Arched_Eyebrows</th>\n",
       "      <th>Attractive</th>\n",
       "      <th>Bags_Under_Eyes</th>\n",
       "      <th>Bald</th>\n",
       "      <th>Bangs</th>\n",
       "      <th>Big_Lips</th>\n",
       "      <th>Big_Nose</th>\n",
       "      <th>Black_Hair</th>\n",
       "      <th>...</th>\n",
       "      <th>Sideburns</th>\n",
       "      <th>Smiling</th>\n",
       "      <th>Straight_Hair</th>\n",
       "      <th>Wavy_Hair</th>\n",
       "      <th>Wearing_Earrings</th>\n",
       "      <th>Wearing_Hat</th>\n",
       "      <th>Wearing_Lipstick</th>\n",
       "      <th>Wearing_Necklace</th>\n",
       "      <th>Wearing_Necktie</th>\n",
       "      <th>Young</th>\n",
       "    </tr>\n",
       "  </thead>\n",
       "  <tbody>\n",
       "    <tr>\n",
       "      <th>0</th>\n",
       "      <td>000001.jpg</td>\n",
       "      <td>-1</td>\n",
       "      <td>1</td>\n",
       "      <td>1</td>\n",
       "      <td>-1</td>\n",
       "      <td>-1</td>\n",
       "      <td>-1</td>\n",
       "      <td>-1</td>\n",
       "      <td>-1</td>\n",
       "      <td>-1</td>\n",
       "      <td>...</td>\n",
       "      <td>-1</td>\n",
       "      <td>1</td>\n",
       "      <td>1</td>\n",
       "      <td>-1</td>\n",
       "      <td>1</td>\n",
       "      <td>-1</td>\n",
       "      <td>1</td>\n",
       "      <td>-1</td>\n",
       "      <td>-1</td>\n",
       "      <td>1</td>\n",
       "    </tr>\n",
       "    <tr>\n",
       "      <th>1</th>\n",
       "      <td>000002.jpg</td>\n",
       "      <td>-1</td>\n",
       "      <td>0</td>\n",
       "      <td>-1</td>\n",
       "      <td>1</td>\n",
       "      <td>-1</td>\n",
       "      <td>-1</td>\n",
       "      <td>-1</td>\n",
       "      <td>1</td>\n",
       "      <td>-1</td>\n",
       "      <td>...</td>\n",
       "      <td>-1</td>\n",
       "      <td>1</td>\n",
       "      <td>-1</td>\n",
       "      <td>-1</td>\n",
       "      <td>-1</td>\n",
       "      <td>-1</td>\n",
       "      <td>-1</td>\n",
       "      <td>-1</td>\n",
       "      <td>-1</td>\n",
       "      <td>1</td>\n",
       "    </tr>\n",
       "    <tr>\n",
       "      <th>2</th>\n",
       "      <td>000003.jpg</td>\n",
       "      <td>-1</td>\n",
       "      <td>0</td>\n",
       "      <td>-1</td>\n",
       "      <td>-1</td>\n",
       "      <td>-1</td>\n",
       "      <td>-1</td>\n",
       "      <td>1</td>\n",
       "      <td>-1</td>\n",
       "      <td>-1</td>\n",
       "      <td>...</td>\n",
       "      <td>-1</td>\n",
       "      <td>-1</td>\n",
       "      <td>-1</td>\n",
       "      <td>1</td>\n",
       "      <td>-1</td>\n",
       "      <td>-1</td>\n",
       "      <td>-1</td>\n",
       "      <td>-1</td>\n",
       "      <td>-1</td>\n",
       "      <td>1</td>\n",
       "    </tr>\n",
       "    <tr>\n",
       "      <th>3</th>\n",
       "      <td>000004.jpg</td>\n",
       "      <td>-1</td>\n",
       "      <td>0</td>\n",
       "      <td>1</td>\n",
       "      <td>-1</td>\n",
       "      <td>-1</td>\n",
       "      <td>-1</td>\n",
       "      <td>-1</td>\n",
       "      <td>-1</td>\n",
       "      <td>-1</td>\n",
       "      <td>...</td>\n",
       "      <td>-1</td>\n",
       "      <td>-1</td>\n",
       "      <td>1</td>\n",
       "      <td>-1</td>\n",
       "      <td>1</td>\n",
       "      <td>-1</td>\n",
       "      <td>1</td>\n",
       "      <td>1</td>\n",
       "      <td>-1</td>\n",
       "      <td>1</td>\n",
       "    </tr>\n",
       "    <tr>\n",
       "      <th>4</th>\n",
       "      <td>000005.jpg</td>\n",
       "      <td>-1</td>\n",
       "      <td>1</td>\n",
       "      <td>1</td>\n",
       "      <td>-1</td>\n",
       "      <td>-1</td>\n",
       "      <td>-1</td>\n",
       "      <td>1</td>\n",
       "      <td>-1</td>\n",
       "      <td>-1</td>\n",
       "      <td>...</td>\n",
       "      <td>-1</td>\n",
       "      <td>-1</td>\n",
       "      <td>-1</td>\n",
       "      <td>-1</td>\n",
       "      <td>-1</td>\n",
       "      <td>-1</td>\n",
       "      <td>1</td>\n",
       "      <td>-1</td>\n",
       "      <td>-1</td>\n",
       "      <td>1</td>\n",
       "    </tr>\n",
       "    <tr>\n",
       "      <th>...</th>\n",
       "      <td>...</td>\n",
       "      <td>...</td>\n",
       "      <td>...</td>\n",
       "      <td>...</td>\n",
       "      <td>...</td>\n",
       "      <td>...</td>\n",
       "      <td>...</td>\n",
       "      <td>...</td>\n",
       "      <td>...</td>\n",
       "      <td>...</td>\n",
       "      <td>...</td>\n",
       "      <td>...</td>\n",
       "      <td>...</td>\n",
       "      <td>...</td>\n",
       "      <td>...</td>\n",
       "      <td>...</td>\n",
       "      <td>...</td>\n",
       "      <td>...</td>\n",
       "      <td>...</td>\n",
       "      <td>...</td>\n",
       "      <td>...</td>\n",
       "    </tr>\n",
       "    <tr>\n",
       "      <th>202594</th>\n",
       "      <td>202595.jpg</td>\n",
       "      <td>-1</td>\n",
       "      <td>0</td>\n",
       "      <td>1</td>\n",
       "      <td>-1</td>\n",
       "      <td>-1</td>\n",
       "      <td>-1</td>\n",
       "      <td>1</td>\n",
       "      <td>-1</td>\n",
       "      <td>-1</td>\n",
       "      <td>...</td>\n",
       "      <td>-1</td>\n",
       "      <td>-1</td>\n",
       "      <td>-1</td>\n",
       "      <td>-1</td>\n",
       "      <td>-1</td>\n",
       "      <td>-1</td>\n",
       "      <td>1</td>\n",
       "      <td>-1</td>\n",
       "      <td>-1</td>\n",
       "      <td>1</td>\n",
       "    </tr>\n",
       "    <tr>\n",
       "      <th>202595</th>\n",
       "      <td>202596.jpg</td>\n",
       "      <td>-1</td>\n",
       "      <td>0</td>\n",
       "      <td>-1</td>\n",
       "      <td>-1</td>\n",
       "      <td>-1</td>\n",
       "      <td>1</td>\n",
       "      <td>1</td>\n",
       "      <td>-1</td>\n",
       "      <td>-1</td>\n",
       "      <td>...</td>\n",
       "      <td>-1</td>\n",
       "      <td>1</td>\n",
       "      <td>1</td>\n",
       "      <td>-1</td>\n",
       "      <td>-1</td>\n",
       "      <td>-1</td>\n",
       "      <td>-1</td>\n",
       "      <td>-1</td>\n",
       "      <td>-1</td>\n",
       "      <td>1</td>\n",
       "    </tr>\n",
       "    <tr>\n",
       "      <th>202596</th>\n",
       "      <td>202597.jpg</td>\n",
       "      <td>-1</td>\n",
       "      <td>0</td>\n",
       "      <td>-1</td>\n",
       "      <td>-1</td>\n",
       "      <td>-1</td>\n",
       "      <td>-1</td>\n",
       "      <td>-1</td>\n",
       "      <td>-1</td>\n",
       "      <td>1</td>\n",
       "      <td>...</td>\n",
       "      <td>-1</td>\n",
       "      <td>1</td>\n",
       "      <td>-1</td>\n",
       "      <td>-1</td>\n",
       "      <td>-1</td>\n",
       "      <td>-1</td>\n",
       "      <td>-1</td>\n",
       "      <td>-1</td>\n",
       "      <td>-1</td>\n",
       "      <td>1</td>\n",
       "    </tr>\n",
       "    <tr>\n",
       "      <th>202597</th>\n",
       "      <td>202598.jpg</td>\n",
       "      <td>-1</td>\n",
       "      <td>1</td>\n",
       "      <td>1</td>\n",
       "      <td>-1</td>\n",
       "      <td>-1</td>\n",
       "      <td>-1</td>\n",
       "      <td>1</td>\n",
       "      <td>-1</td>\n",
       "      <td>1</td>\n",
       "      <td>...</td>\n",
       "      <td>-1</td>\n",
       "      <td>1</td>\n",
       "      <td>-1</td>\n",
       "      <td>1</td>\n",
       "      <td>1</td>\n",
       "      <td>-1</td>\n",
       "      <td>1</td>\n",
       "      <td>-1</td>\n",
       "      <td>-1</td>\n",
       "      <td>1</td>\n",
       "    </tr>\n",
       "    <tr>\n",
       "      <th>202598</th>\n",
       "      <td>202599.jpg</td>\n",
       "      <td>-1</td>\n",
       "      <td>1</td>\n",
       "      <td>1</td>\n",
       "      <td>-1</td>\n",
       "      <td>-1</td>\n",
       "      <td>-1</td>\n",
       "      <td>-1</td>\n",
       "      <td>-1</td>\n",
       "      <td>-1</td>\n",
       "      <td>...</td>\n",
       "      <td>-1</td>\n",
       "      <td>-1</td>\n",
       "      <td>-1</td>\n",
       "      <td>1</td>\n",
       "      <td>-1</td>\n",
       "      <td>-1</td>\n",
       "      <td>1</td>\n",
       "      <td>-1</td>\n",
       "      <td>-1</td>\n",
       "      <td>1</td>\n",
       "    </tr>\n",
       "  </tbody>\n",
       "</table>\n",
       "<p>202599 rows × 41 columns</p>\n",
       "</div>"
      ],
      "text/plain": [
       "          image_id  5_o_Clock_Shadow  Arched_Eyebrows  Attractive  \\\n",
       "0       000001.jpg                -1                1           1   \n",
       "1       000002.jpg                -1                0          -1   \n",
       "2       000003.jpg                -1                0          -1   \n",
       "3       000004.jpg                -1                0           1   \n",
       "4       000005.jpg                -1                1           1   \n",
       "...            ...               ...              ...         ...   \n",
       "202594  202595.jpg                -1                0           1   \n",
       "202595  202596.jpg                -1                0          -1   \n",
       "202596  202597.jpg                -1                0          -1   \n",
       "202597  202598.jpg                -1                1           1   \n",
       "202598  202599.jpg                -1                1           1   \n",
       "\n",
       "        Bags_Under_Eyes  Bald  Bangs  Big_Lips  Big_Nose  Black_Hair  ...  \\\n",
       "0                    -1    -1     -1        -1        -1          -1  ...   \n",
       "1                     1    -1     -1        -1         1          -1  ...   \n",
       "2                    -1    -1     -1         1        -1          -1  ...   \n",
       "3                    -1    -1     -1        -1        -1          -1  ...   \n",
       "4                    -1    -1     -1         1        -1          -1  ...   \n",
       "...                 ...   ...    ...       ...       ...         ...  ...   \n",
       "202594               -1    -1     -1         1        -1          -1  ...   \n",
       "202595               -1    -1      1         1        -1          -1  ...   \n",
       "202596               -1    -1     -1        -1        -1           1  ...   \n",
       "202597               -1    -1     -1         1        -1           1  ...   \n",
       "202598               -1    -1     -1        -1        -1          -1  ...   \n",
       "\n",
       "        Sideburns  Smiling  Straight_Hair  Wavy_Hair  Wearing_Earrings  \\\n",
       "0              -1        1              1         -1                 1   \n",
       "1              -1        1             -1         -1                -1   \n",
       "2              -1       -1             -1          1                -1   \n",
       "3              -1       -1              1         -1                 1   \n",
       "4              -1       -1             -1         -1                -1   \n",
       "...           ...      ...            ...        ...               ...   \n",
       "202594         -1       -1             -1         -1                -1   \n",
       "202595         -1        1              1         -1                -1   \n",
       "202596         -1        1             -1         -1                -1   \n",
       "202597         -1        1             -1          1                 1   \n",
       "202598         -1       -1             -1          1                -1   \n",
       "\n",
       "        Wearing_Hat  Wearing_Lipstick  Wearing_Necklace  Wearing_Necktie  \\\n",
       "0                -1                 1                -1               -1   \n",
       "1                -1                -1                -1               -1   \n",
       "2                -1                -1                -1               -1   \n",
       "3                -1                 1                 1               -1   \n",
       "4                -1                 1                -1               -1   \n",
       "...             ...               ...               ...              ...   \n",
       "202594           -1                 1                -1               -1   \n",
       "202595           -1                -1                -1               -1   \n",
       "202596           -1                -1                -1               -1   \n",
       "202597           -1                 1                -1               -1   \n",
       "202598           -1                 1                -1               -1   \n",
       "\n",
       "        Young  \n",
       "0           1  \n",
       "1           1  \n",
       "2           1  \n",
       "3           1  \n",
       "4           1  \n",
       "...       ...  \n",
       "202594      1  \n",
       "202595      1  \n",
       "202596      1  \n",
       "202597      1  \n",
       "202598      1  \n",
       "\n",
       "[202599 rows x 41 columns]"
      ]
     },
     "execution_count": 38,
     "metadata": {},
     "output_type": "execute_result"
    }
   ],
   "source": [
    "attr.Arched_Eyebrows = [0  if x == -1 else 1 for x in attr.Arched_Eyebrows]\n",
    "attr"
   ]
  },
  {
   "cell_type": "code",
   "execution_count": 39,
   "id": "7fd113ea-f3f5-451a-9c92-10851b7953fb",
   "metadata": {},
   "outputs": [],
   "source": [
    "img_files = attr.image_id\n",
    "img_files = \"face_images/img_align_celeba/\" + img_files"
   ]
  },
  {
   "cell_type": "code",
   "execution_count": 40,
   "id": "39e9d9cf-d44b-4d30-8562-dc3815f15cf3",
   "metadata": {},
   "outputs": [
    {
     "data": {
      "text/plain": [
       "'000043.jpg'"
      ]
     },
     "execution_count": 40,
     "metadata": {},
     "output_type": "execute_result"
    }
   ],
   "source": [
    "img_files[42].removeprefix(\"face_images/img_align_celeba/\")"
   ]
  },
  {
   "cell_type": "code",
   "execution_count": 41,
   "id": "584bc38a-b7fe-4933-89c4-11129cd7dcb2",
   "metadata": {},
   "outputs": [],
   "source": [
    "with ZipFile(zip_location,'r') as zf:\n",
    "    with zf.open(img_files[0]) as file:\n",
    "        img_data = file.read()"
   ]
  },
  {
   "cell_type": "code",
   "execution_count": 42,
   "id": "100b4b4f-c9fa-4c84-957a-f9cb6e7e8881",
   "metadata": {
    "scrolled": true
   },
   "outputs": [],
   "source": [
    "img = Image.open(BytesIO(img_data))"
   ]
  },
  {
   "cell_type": "code",
   "execution_count": 43,
   "id": "3ce8326a-15c2-416e-9f66-f7a8e8cd6a57",
   "metadata": {},
   "outputs": [
    {
     "data": {
      "text/plain": [
       "\"\\nstart_time = time()\\n# using with as syntax to open each file individually\\n\\nfor f in img_files[:20]:\\n    with ZipFile(zip_location,'r') as zf:\\n        with zf.open(f) as file:\\n            img_data = file.read()\\n\\nend_time = time()\\n\\nprint(end_time-start_time)\\n\""
      ]
     },
     "execution_count": 43,
     "metadata": {},
     "output_type": "execute_result"
    }
   ],
   "source": [
    "\"\"\"\n",
    "start_time = time()\n",
    "# using with as syntax to open each file individually\n",
    "\n",
    "for f in img_files[:20]:\n",
    "    with ZipFile(zip_location,'r') as zf:\n",
    "        with zf.open(f) as file:\n",
    "            img_data = file.read()\n",
    "\n",
    "end_time = time()\n",
    "\n",
    "print(end_time-start_time)\n",
    "\"\"\""
   ]
  },
  {
   "cell_type": "code",
   "execution_count": 44,
   "id": "ff372a34-e01c-4986-a1c3-dccb5d7b21eb",
   "metadata": {},
   "outputs": [
    {
     "data": {
      "text/plain": [
       "\"\\nstart_time = time()\\n# using with as syntax to open filez under a single zip file\\n\\nwith ZipFile(zip_location,'r') as zf:\\n    for f in img_files[:20]:\\n        with zf.open(f) as file:\\n            img_data = file.read()\\n\\nend_time = time()\\n\\nprint(end_time-start_time)\\n\""
      ]
     },
     "execution_count": 44,
     "metadata": {},
     "output_type": "execute_result"
    }
   ],
   "source": [
    "\"\"\"\n",
    "start_time = time()\n",
    "# using with as syntax to open filez under a single zip file\n",
    "\n",
    "with ZipFile(zip_location,'r') as zf:\n",
    "    for f in img_files[:20]:\n",
    "        with zf.open(f) as file:\n",
    "            img_data = file.read()\n",
    "\n",
    "end_time = time()\n",
    "\n",
    "print(end_time-start_time)\n",
    "\"\"\""
   ]
  },
  {
   "cell_type": "code",
   "execution_count": 45,
   "id": "2343241e-13af-4bab-983d-cbcb466abcfb",
   "metadata": {},
   "outputs": [
    {
     "data": {
      "text/plain": [
       "\"\\nstart_time = time()\\n# using with as syntax to open files under a single zip file\\n\\nzf = ZipFile(zip_location,'r')\\nfor f in img_files[:20]:\\n    with zf.open(f) as file:\\n        img_data = file.read()\\n\\nend_time = time()\\n\\nprint(end_time-start_time)\\n\""
      ]
     },
     "execution_count": 45,
     "metadata": {},
     "output_type": "execute_result"
    }
   ],
   "source": [
    "\"\"\"\n",
    "start_time = time()\n",
    "# using with as syntax to open files under a single zip file\n",
    "\n",
    "zf = ZipFile(zip_location,'r')\n",
    "for f in img_files[:20]:\n",
    "    with zf.open(f) as file:\n",
    "        img_data = file.read()\n",
    "\n",
    "end_time = time()\n",
    "\n",
    "print(end_time-start_time)\n",
    "\"\"\""
   ]
  },
  {
   "cell_type": "code",
   "execution_count": 46,
   "id": "d1fbc3ae-c826-4789-8fdb-0c6b6b5136fd",
   "metadata": {},
   "outputs": [],
   "source": [
    "class ZipImageDataset(Dataset):\n",
    "    def __init__(self, zip_file_path, file_list, transform=None):\n",
    "        self.zip_file_path = zip_file_path\n",
    "        self.file_list = file_list\n",
    "        self.transform = transform\n",
    "        self.zip_file = ZipFile(self.zip_file_path, 'r')  # Open zip file once\n",
    "\n",
    "    def __getitem__(self, idx):\n",
    "        image_file = self.file_list[idx]\n",
    "        label = attr.Arched_Eyebrows[idx]\n",
    "\n",
    "        with self.zip_file.open(image_file) as file:\n",
    "            image = Image.open(BytesIO(file.read()))\n",
    "            image = image.convert('RGB')\n",
    "            \n",
    "            if self.transform:\n",
    "                image = self.transform(image)\n",
    "            \n",
    "            \n",
    "            return (image,label)\n",
    "    \n",
    "    def close(self):\n",
    "        self.zip_file.close()\n",
    "\n",
    "    def __del__(self):\n",
    "        self.close()  # Ensure that the zip file is closed when the dataset is done\n",
    "    def __len__(self):\n",
    "        return len(self.file_list)\n"
   ]
  },
  {
   "cell_type": "code",
   "execution_count": 47,
   "id": "1349bbb9-16de-49ce-8027-0ace5fdba588",
   "metadata": {},
   "outputs": [],
   "source": [
    "transform = transforms.Compose([\n",
    "    transforms.ToTensor()\n",
    "])"
   ]
  },
  {
   "cell_type": "code",
   "execution_count": 48,
   "id": "a2faf564-d57c-43e1-93ee-9288f9e519a6",
   "metadata": {},
   "outputs": [],
   "source": [
    "img_dataset = ZipImageDataset(zip_location, img_files, transform)"
   ]
  },
  {
   "cell_type": "code",
   "execution_count": 49,
   "id": "dd74a481-5fa0-46c2-ab17-e1b2d3e59139",
   "metadata": {},
   "outputs": [],
   "source": [
    "dataset_size = len(img_files)\n",
    "\n",
    "# Split dataset into train (70%), validation (15%), and test (15%)\n",
    "train_size = int(0.7 * dataset_size)\n",
    "val_size = int(0.15 * dataset_size)\n",
    "test_size = dataset_size - train_size - val_size\n",
    "\n",
    "# Split dataset\n",
    "train_dataset, val_dataset, test_dataset = random_split(img_dataset, [train_size, val_size, test_size])\n",
    "\n",
    "num_train_examples = 1000  # Change this number to adjust the dataset size\n",
    "\n",
    "# Create a subset of the training data\n",
    "train_subset = Subset(train_dataset, range(num_train_examples))\n",
    "\n",
    "batch_size = 16\n",
    "# Create DataLoaders for train, validation, and test sets\n",
    "train_loader = DataLoader(train_subset, batch_size=batch_size, shuffle=True, num_workers=0)\n",
    "val_loader = DataLoader(val_dataset, batch_size=batch_size, shuffle=False, num_workers=0)\n",
    "test_loader = DataLoader(test_dataset, batch_size=batch_size, shuffle=False, num_workers=0)"
   ]
  },
  {
   "cell_type": "code",
   "execution_count": 50,
   "id": "b0ed7cb3-e6de-4a52-a63c-3460b79f6a81",
   "metadata": {},
   "outputs": [
    {
     "name": "stdout",
     "output_type": "stream",
     "text": [
      "Train: 141819\n",
      "Validation: 30389\n",
      "Test: 30391\n"
     ]
    }
   ],
   "source": [
    "print(f'Train: {train_size}')\n",
    "print(f'Validation: {val_size}')\n",
    "print(f'Test: {test_size}')"
   ]
  },
  {
   "cell_type": "code",
   "execution_count": 51,
   "id": "77c4d251-329d-403e-bdf9-8b7de71b1fb0",
   "metadata": {},
   "outputs": [],
   "source": [
    "def reverse_normalize(tensor, mean, std):\n",
    "    # Normalize in reverse: (normalized_value * std) + mean\n",
    "    mean = torch.tensor(mean).view(-1, 1, 1)\n",
    "    std = torch.tensor(std).view(-1, 1, 1)\n",
    "    return tensor * std + mean"
   ]
  },
  {
   "cell_type": "code",
   "execution_count": 52,
   "id": "9bc614cb-3bab-4347-8c70-895f616f7108",
   "metadata": {},
   "outputs": [],
   "source": [
    "tensor_to_image = transforms.ToPILImage()"
   ]
  },
  {
   "cell_type": "code",
   "execution_count": 53,
   "id": "456cacb3-dd62-4df1-9442-609655f91fe6",
   "metadata": {},
   "outputs": [
    {
     "data": {
      "image/jpeg": "[encoded data removed]",
      "image/png": "[encoded data removed]",
      "text/plain": [
       "<PIL.Image.Image image mode=RGB size=178x218>"
      ]
     },
     "execution_count": 53,
     "metadata": {},
     "output_type": "execute_result"
    }
   ],
   "source": [
    "tensor_to_image(test_dataset[42][0])"
   ]
  },
  {
   "cell_type": "markdown",
   "id": "58acc532-4554-43f8-a082-d3dc0ae94f4b",
   "metadata": {},
   "source": [
    "# ResNet 18 \n",
    "\n",
    "### ResidualBlock(in,out)\n",
    "- Conv2d(in,out)\n",
    "- BatchNorm2d(out,out)\n",
    "- ReLU(out,out)\n",
    "- Conv2d(out,out)\n",
    "- BatchNorm2d(out,out)\n",
    "- downsampling\n",
    "- out = out + in\n",
    "- ReLU(out,out)\n",
    "\n",
    "### SequentialLayer(in,out)\n",
    "- ResidualBlock(in,out)\n",
    "- ResidualBlock(out,out)\n",
    "\n",
    "\n",
    "### Resnet18\n",
    "- Input\n",
    "- Conv2d(input_channnel = 3, output_channels = 64, kernel_size = (7,7), padding = (3,3)\n",
    "- BatchNorm2d(channels = 64)\n",
    "- ReLU\n",
    "- MaxPool2d(kernel_size=3,stride=2,padding=1)\n",
    "- SequentialLayer(input_channel = 64, output_channel = 64)\n",
    "- SequentialLayer(64,128)\n",
    "- SequentialLayer(128,256)\n",
    "- SequentialLayer(256,512)\n",
    "- GlobalAvgPool2d()\n",
    "- Linear(512,1000)\n",
    "\n",
    "\n",
    "\n",
    "Link to code: https://pytorch.org/vision/2.0/_modules/torchvision/models/resnet.html#resnet18"
   ]
  },
  {
   "cell_type": "code",
   "execution_count": 54,
   "id": "1cc3eb9f-9b12-4d3c-a301-1e7046c8a4c4",
   "metadata": {},
   "outputs": [],
   "source": [
    "model = models.resnet18(weights='IMAGENET1K_V1')"
   ]
  },
  {
   "cell_type": "code",
   "execution_count": 55,
   "id": "707d9013-7e1d-4e44-aaf6-a2baab4d6f92",
   "metadata": {
    "scrolled": true
   },
   "outputs": [
    {
     "data": {
      "text/plain": [
       "ResNet(\n",
       "  (conv1): Conv2d(3, 64, kernel_size=(7, 7), stride=(2, 2), padding=(3, 3), bias=False)\n",
       "  (bn1): BatchNorm2d(64, eps=1e-05, momentum=0.1, affine=True, track_running_stats=True)\n",
       "  (relu): ReLU(inplace=True)\n",
       "  (maxpool): MaxPool2d(kernel_size=3, stride=2, padding=1, dilation=1, ceil_mode=False)\n",
       "  (layer1): Sequential(\n",
       "    (0): BasicBlock(\n",
       "      (conv1): Conv2d(64, 64, kernel_size=(3, 3), stride=(1, 1), padding=(1, 1), bias=False)\n",
       "      (bn1): BatchNorm2d(64, eps=1e-05, momentum=0.1, affine=True, track_running_stats=True)\n",
       "      (relu): ReLU(inplace=True)\n",
       "      (conv2): Conv2d(64, 64, kernel_size=(3, 3), stride=(1, 1), padding=(1, 1), bias=False)\n",
       "      (bn2): BatchNorm2d(64, eps=1e-05, momentum=0.1, affine=True, track_running_stats=True)\n",
       "    )\n",
       "    (1): BasicBlock(\n",
       "      (conv1): Conv2d(64, 64, kernel_size=(3, 3), stride=(1, 1), padding=(1, 1), bias=False)\n",
       "      (bn1): BatchNorm2d(64, eps=1e-05, momentum=0.1, affine=True, track_running_stats=True)\n",
       "      (relu): ReLU(inplace=True)\n",
       "      (conv2): Conv2d(64, 64, kernel_size=(3, 3), stride=(1, 1), padding=(1, 1), bias=False)\n",
       "      (bn2): BatchNorm2d(64, eps=1e-05, momentum=0.1, affine=True, track_running_stats=True)\n",
       "    )\n",
       "  )\n",
       "  (layer2): Sequential(\n",
       "    (0): BasicBlock(\n",
       "      (conv1): Conv2d(64, 128, kernel_size=(3, 3), stride=(2, 2), padding=(1, 1), bias=False)\n",
       "      (bn1): BatchNorm2d(128, eps=1e-05, momentum=0.1, affine=True, track_running_stats=True)\n",
       "      (relu): ReLU(inplace=True)\n",
       "      (conv2): Conv2d(128, 128, kernel_size=(3, 3), stride=(1, 1), padding=(1, 1), bias=False)\n",
       "      (bn2): BatchNorm2d(128, eps=1e-05, momentum=0.1, affine=True, track_running_stats=True)\n",
       "      (downsample): Sequential(\n",
       "        (0): Conv2d(64, 128, kernel_size=(1, 1), stride=(2, 2), bias=False)\n",
       "        (1): BatchNorm2d(128, eps=1e-05, momentum=0.1, affine=True, track_running_stats=True)\n",
       "      )\n",
       "    )\n",
       "    (1): BasicBlock(\n",
       "      (conv1): Conv2d(128, 128, kernel_size=(3, 3), stride=(1, 1), padding=(1, 1), bias=False)\n",
       "      (bn1): BatchNorm2d(128, eps=1e-05, momentum=0.1, affine=True, track_running_stats=True)\n",
       "      (relu): ReLU(inplace=True)\n",
       "      (conv2): Conv2d(128, 128, kernel_size=(3, 3), stride=(1, 1), padding=(1, 1), bias=False)\n",
       "      (bn2): BatchNorm2d(128, eps=1e-05, momentum=0.1, affine=True, track_running_stats=True)\n",
       "    )\n",
       "  )\n",
       "  (layer3): Sequential(\n",
       "    (0): BasicBlock(\n",
       "      (conv1): Conv2d(128, 256, kernel_size=(3, 3), stride=(2, 2), padding=(1, 1), bias=False)\n",
       "      (bn1): BatchNorm2d(256, eps=1e-05, momentum=0.1, affine=True, track_running_stats=True)\n",
       "      (relu): ReLU(inplace=True)\n",
       "      (conv2): Conv2d(256, 256, kernel_size=(3, 3), stride=(1, 1), padding=(1, 1), bias=False)\n",
       "      (bn2): BatchNorm2d(256, eps=1e-05, momentum=0.1, affine=True, track_running_stats=True)\n",
       "      (downsample): Sequential(\n",
       "        (0): Conv2d(128, 256, kernel_size=(1, 1), stride=(2, 2), bias=False)\n",
       "        (1): BatchNorm2d(256, eps=1e-05, momentum=0.1, affine=True, track_running_stats=True)\n",
       "      )\n",
       "    )\n",
       "    (1): BasicBlock(\n",
       "      (conv1): Conv2d(256, 256, kernel_size=(3, 3), stride=(1, 1), padding=(1, 1), bias=False)\n",
       "      (bn1): BatchNorm2d(256, eps=1e-05, momentum=0.1, affine=True, track_running_stats=True)\n",
       "      (relu): ReLU(inplace=True)\n",
       "      (conv2): Conv2d(256, 256, kernel_size=(3, 3), stride=(1, 1), padding=(1, 1), bias=False)\n",
       "      (bn2): BatchNorm2d(256, eps=1e-05, momentum=0.1, affine=True, track_running_stats=True)\n",
       "    )\n",
       "  )\n",
       "  (layer4): Sequential(\n",
       "    (0): BasicBlock(\n",
       "      (conv1): Conv2d(256, 512, kernel_size=(3, 3), stride=(2, 2), padding=(1, 1), bias=False)\n",
       "      (bn1): BatchNorm2d(512, eps=1e-05, momentum=0.1, affine=True, track_running_stats=True)\n",
       "      (relu): ReLU(inplace=True)\n",
       "      (conv2): Conv2d(512, 512, kernel_size=(3, 3), stride=(1, 1), padding=(1, 1), bias=False)\n",
       "      (bn2): BatchNorm2d(512, eps=1e-05, momentum=0.1, affine=True, track_running_stats=True)\n",
       "      (downsample): Sequential(\n",
       "        (0): Conv2d(256, 512, kernel_size=(1, 1), stride=(2, 2), bias=False)\n",
       "        (1): BatchNorm2d(512, eps=1e-05, momentum=0.1, affine=True, track_running_stats=True)\n",
       "      )\n",
       "    )\n",
       "    (1): BasicBlock(\n",
       "      (conv1): Conv2d(512, 512, kernel_size=(3, 3), stride=(1, 1), padding=(1, 1), bias=False)\n",
       "      (bn1): BatchNorm2d(512, eps=1e-05, momentum=0.1, affine=True, track_running_stats=True)\n",
       "      (relu): ReLU(inplace=True)\n",
       "      (conv2): Conv2d(512, 512, kernel_size=(3, 3), stride=(1, 1), padding=(1, 1), bias=False)\n",
       "      (bn2): BatchNorm2d(512, eps=1e-05, momentum=0.1, affine=True, track_running_stats=True)\n",
       "    )\n",
       "  )\n",
       "  (avgpool): AdaptiveAvgPool2d(output_size=(1, 1))\n",
       "  (fc): Linear(in_features=512, out_features=1000, bias=True)\n",
       ")"
      ]
     },
     "execution_count": 55,
     "metadata": {},
     "output_type": "execute_result"
    }
   ],
   "source": [
    "model.to(device)"
   ]
  },
  {
   "cell_type": "code",
   "execution_count": 56,
   "id": "ba83e943-6f47-4b9a-89ec-1081782d62c8",
   "metadata": {},
   "outputs": [
    {
     "data": {
      "text/plain": [
       "True"
      ]
     },
     "execution_count": 56,
     "metadata": {},
     "output_type": "execute_result"
    }
   ],
   "source": [
    "next(model.parameters()).is_cuda"
   ]
  },
  {
   "cell_type": "code",
   "execution_count": 57,
   "id": "9115b654-1f85-4e0a-92af-9371483fbf78",
   "metadata": {
    "scrolled": true
   },
   "outputs": [
    {
     "name": "stdout",
     "output_type": "stream",
     "text": [
      "torch.Size([16, 3, 218, 178])\n",
      "63\n"
     ]
    }
   ],
   "source": [
    "c = 0\n",
    "for input_batch,label_batch in train_loader:\n",
    "    c+=1\n",
    "    if c==1:\n",
    "        print(input_batch.shape)\n",
    "print(c)\n"
   ]
  },
  {
   "cell_type": "code",
   "execution_count": 58,
   "id": "c4fad994-376e-4127-9014-cffec2e4f42a",
   "metadata": {
    "scrolled": true
   },
   "outputs": [
    {
     "name": "stdout",
     "output_type": "stream",
     "text": [
      "conv1.weight\n",
      "bn1.weight\n",
      "bn1.bias\n",
      "layer1.0.conv1.weight\n",
      "layer1.0.bn1.weight\n",
      "layer1.0.bn1.bias\n",
      "layer1.0.conv2.weight\n",
      "layer1.0.bn2.weight\n",
      "layer1.0.bn2.bias\n",
      "layer1.1.conv1.weight\n",
      "layer1.1.bn1.weight\n",
      "layer1.1.bn1.bias\n",
      "layer1.1.conv2.weight\n",
      "layer1.1.bn2.weight\n",
      "layer1.1.bn2.bias\n",
      "layer2.0.conv1.weight\n",
      "layer2.0.bn1.weight\n",
      "layer2.0.bn1.bias\n",
      "layer2.0.conv2.weight\n",
      "layer2.0.bn2.weight\n",
      "layer2.0.bn2.bias\n",
      "layer2.0.downsample.0.weight\n",
      "layer2.0.downsample.1.weight\n",
      "layer2.0.downsample.1.bias\n",
      "layer2.1.conv1.weight\n",
      "layer2.1.bn1.weight\n",
      "layer2.1.bn1.bias\n",
      "layer2.1.conv2.weight\n",
      "layer2.1.bn2.weight\n",
      "layer2.1.bn2.bias\n",
      "layer3.0.conv1.weight\n",
      "layer3.0.bn1.weight\n",
      "layer3.0.bn1.bias\n",
      "layer3.0.conv2.weight\n",
      "layer3.0.bn2.weight\n",
      "layer3.0.bn2.bias\n",
      "layer3.0.downsample.0.weight\n",
      "layer3.0.downsample.1.weight\n",
      "layer3.0.downsample.1.bias\n",
      "layer3.1.conv1.weight\n",
      "layer3.1.bn1.weight\n",
      "layer3.1.bn1.bias\n",
      "layer3.1.conv2.weight\n",
      "layer3.1.bn2.weight\n",
      "layer3.1.bn2.bias\n",
      "layer4.0.conv1.weight\n",
      "layer4.0.bn1.weight\n",
      "layer4.0.bn1.bias\n",
      "layer4.0.conv2.weight\n",
      "layer4.0.bn2.weight\n",
      "layer4.0.bn2.bias\n",
      "layer4.0.downsample.0.weight\n",
      "layer4.0.downsample.1.weight\n",
      "layer4.0.downsample.1.bias\n",
      "layer4.1.conv1.weight\n",
      "layer4.1.bn1.weight\n",
      "layer4.1.bn1.bias\n",
      "layer4.1.conv2.weight\n",
      "layer4.1.bn2.weight\n",
      "layer4.1.bn2.bias\n",
      "fc.weight\n",
      "fc.bias\n"
     ]
    }
   ],
   "source": [
    "for name,param in model.named_parameters():\n",
    "    print(name)"
   ]
  },
  {
   "cell_type": "code",
   "execution_count": 59,
   "id": "bf87eb2a-890a-41ba-bbec-0925be3826f0",
   "metadata": {},
   "outputs": [
    {
     "data": {
      "text/plain": [
       "Conv2d(64, 64, kernel_size=(3, 3), stride=(1, 1), padding=(1, 1), bias=False)"
      ]
     },
     "execution_count": 59,
     "metadata": {},
     "output_type": "execute_result"
    }
   ],
   "source": [
    "model.layer1[0].conv1"
   ]
  },
  {
   "cell_type": "code",
   "execution_count": 60,
   "id": "8e2284a6-51f2-4f32-98bb-e196452d6eeb",
   "metadata": {},
   "outputs": [],
   "source": [
    "model.fc = nn.Linear(512,1)"
   ]
  },
  {
   "cell_type": "markdown",
   "id": "e15888b1-f567-4a75-a090-f2d7477a7538",
   "metadata": {},
   "source": [
    "# Experiments\n",
    "- Freezing all layers except layer 4 onwards with SGD\n",
    "- Freezing all layers except layer 3 onwards with SGD\n",
    "- Freezing all layers except layer 4 onwards with AdamW\n",
    "- Freezing all layers except layer 3 onwards with AdamW\n",
    "- Transform all images into subsets(their bounding boxes) and retry"
   ]
  },
  {
   "cell_type": "code",
   "execution_count": 30,
   "id": "907496a8-a25c-452d-a0c1-26262ae7c461",
   "metadata": {},
   "outputs": [],
   "source": [
    "for name,param in model.named_parameters():\n",
    "    if \"layer4\" in name:\n",
    "        break\n",
    "    param.requires_grad = False"
   ]
  },
  {
   "cell_type": "code",
   "execution_count": 31,
   "id": "716805ab-de38-4199-a3b4-4a8c77416635",
   "metadata": {
    "scrolled": true
   },
   "outputs": [
    {
     "name": "stdout",
     "output_type": "stream",
     "text": [
      "False\n",
      "False\n",
      "False\n",
      "False\n",
      "False\n",
      "False\n",
      "False\n",
      "False\n",
      "False\n",
      "False\n",
      "False\n",
      "False\n",
      "False\n",
      "False\n",
      "False\n",
      "False\n",
      "False\n",
      "False\n",
      "False\n",
      "False\n",
      "False\n",
      "False\n",
      "False\n",
      "False\n",
      "False\n",
      "False\n",
      "False\n",
      "False\n",
      "False\n",
      "False\n",
      "False\n",
      "False\n",
      "False\n",
      "False\n",
      "False\n",
      "False\n",
      "False\n",
      "False\n",
      "False\n",
      "False\n",
      "False\n",
      "False\n",
      "False\n",
      "False\n",
      "False\n",
      "True\n",
      "True\n",
      "True\n",
      "True\n",
      "True\n",
      "True\n",
      "True\n",
      "True\n",
      "True\n",
      "True\n",
      "True\n",
      "True\n",
      "True\n",
      "True\n",
      "True\n",
      "True\n",
      "True\n"
     ]
    }
   ],
   "source": [
    "for name,param in model.named_parameters():\n",
    "    print(param.requires_grad)"
   ]
  },
  {
   "cell_type": "code",
   "execution_count": null,
   "id": "a8a875e3-f296-458a-b2f5-0447c9b83aef",
   "metadata": {},
   "outputs": [],
   "source": []
  }
 ],
 "metadata": {
  "kernelspec": {
   "display_name": "Python 3 (ipykernel)",
   "language": "python",
   "name": "python3"
  },
  "language_info": {
   "codemirror_mode": {
    "name": "ipython",
    "version": 3
   },
   "file_extension": ".py",
   "mimetype": "text/x-python",
   "name": "python",
   "nbconvert_exporter": "python",
   "pygments_lexer": "ipython3",
   "version": "3.10.7"
  }
 },
 "nbformat": 4,
 "nbformat_minor": 5
}
