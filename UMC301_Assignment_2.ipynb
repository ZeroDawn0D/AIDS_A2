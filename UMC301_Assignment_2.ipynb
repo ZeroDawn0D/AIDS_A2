{
 "cells": [
  {
   "cell_type": "markdown",
   "metadata": {
    "id": "-rk-9UZY_xe2"
   },
   "source": [
    "# UMC 301: Applied Data Science and Artificial Intelligence\n",
    "## Assignment 2\n",
    "\n",
    "### Submission instructions:\n",
    "\n",
    "1.   The assignment is to be submitted in ONE single notebook.\n",
    "2.   Submit the .ipynb file and pdf of the same with all cells open through this Teams Assignment.\n",
    "3. If your IISc email ID is < username > @iisc.ac.in, then name the file < username >_Assgn_2. E.g. jonathan_Assgn_1a for email ID jonathan@iisc.ac.in.\n",
    "4. Before submission, execute the ’Restart session and run all’ option from the Runtime/Kernel tab. Verify that there are no errors and that you are getting the output you expect.\n",
    "5. Use the dataset : https://www.dropbox.com/scl/fi/7m0pt1dkmwbkr3byv5r2j/face_images.zip?rlkey=r2gqsdvuyvpqqk4a7bjd9kcvv&st=nj7wl35d&dl=1\n",
    "**Data Files**\n",
    "\n",
    "**face_images** : All the face images, cropped and aligned. <br>\n",
    "**face_image_bbox.csv**: Bounding box information for each image. \"x_1\" and \"y_1\" represent the upper left point coordinate of bounding box. \"width\" and \"height\" represent the width and height of bounding box. <br>\n",
    "**face_image_attr.csv**: Attribute labels for each image. There are 40 attributes. \"1\" represents positive while \"-1\" represents negative.\n",
    "\n"
   ]
  },
  {
   "cell_type": "markdown",
   "metadata": {
    "id": "Bma59Wpv_xe3"
   },
   "source": [
    "# Question 1\n",
    "Train a ResNet18 model on the above dataset to classify the \"Arched_Eyebrows\" attribute. Apply appropriate data pre-processing [you can use less datapoints]. Evaluate the model by calculating precision, accuracy, F1 score, ROC curve, confusion matrix, and other relevant metrics. Do experiments with different hyperparameters and discuss about results. <br>\n",
    "[Note: Marks will be given based on different experiments and discussion]"
   ]
  },
  {
   "cell_type": "markdown",
   "metadata": {
    "id": "a2Ox51FG_xe3"
   },
   "source": [
    "# Question 2\n",
    "Capture a photo of yourself, similar to the dataset mentioned above, and visualize the activation maps and filters at various layers of the model trained in Question 1. Then, conduct an occlusion experiment to examine the impact on the model's predictions. [I hope you won't copy this 😀]\n",
    "\n",
    "\n",
    "\n",
    "\n",
    "\n",
    "\n"
   ]
  },
  {
   "cell_type": "markdown",
   "metadata": {
    "id": "PaGSaCCg_xe3"
   },
   "source": [
    "# Question 3\n",
    "Train a YOLO object detection model on the dataset mentioned above and evaluate its performance. Provide model output from data point used in Question 2. <br>\n",
    "[Note: Marks will be given based on different experiments and discussion]\n",
    "\n",
    "\n",
    "\n",
    "\n",
    "\n",
    "\n"
   ]
  }
 ],
 "metadata": {
  "colab": {
   "provenance": []
  },
  "kernelspec": {
   "display_name": "Python 3 (ipykernel)",
   "language": "python",
   "name": "python3"
  },
  "language_info": {
   "codemirror_mode": {
    "name": "ipython",
    "version": 3
   },
   "file_extension": ".py",
   "mimetype": "text/x-python",
   "name": "python",
   "nbconvert_exporter": "python",
   "pygments_lexer": "ipython3",
   "version": "3.10.7"
  },
  "vscode": {
   "interpreter": {
    "hash": "916dbcbb3f70747c44a77c7bcd40155683ae19c65e1c03b4aa3499c5328201f1"
   }
  }
 },
 "nbformat": 4,
 "nbformat_minor": 4
}
